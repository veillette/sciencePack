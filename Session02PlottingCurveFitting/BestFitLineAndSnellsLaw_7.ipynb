{
  "cells": [
    {
      "cell_type": "markdown",
      "metadata": {
        "colab_type": "text",
        "id": "view-in-github"
      },
      "source": [
        "<a href=\"https://colab.research.google.com/github/veillette/jupyterNotebooks/blob/main/Optics/bestFitLineAndSnellsLaw.ipynb\" target=\"_parent\"><img src=\"https://colab.research.google.com/assets/colab-badge.svg\" alt=\"Open In Colab\"/></a>"
      ]
    },
    {
      "cell_type": "markdown",
      "metadata": {
        "id": "eIROR-qRxQiJ"
      },
      "source": [
        "## Least Square Regression and Snell's Law"
      ]
    },
    {
      "cell_type": "markdown",
      "metadata": {
        "id": "hKbJykrmxjNG"
      },
      "source": [
        "To get started we need to import a few libraries. The *numpy* and *matplotlib* libraries are very common, so you may want to commit these lines to memory."
      ]
    },
    {
      "cell_type": "code",
      "execution_count": 1,
      "metadata": {
        "id": "qDOO9CN7618I"
      },
      "outputs": [],
      "source": [
        "# Import numpy as np\n",
        "import numpy as np\n",
        "\n",
        "# Library to plot data\n",
        "import matplotlib.pyplot as plt\n",
        "\n",
        "# Import non-linear least squares to fit a function, f, to data.\n",
        "from scipy.optimize import curve_fit"
      ]
    },
    {
      "cell_type": "markdown",
      "metadata": {
        "id": "L98Jt2lC0aRa"
      },
      "source": [
        "Broadly speaking, we can say that there are two types of fits:\n",
        "- polynomial fits (which include linear fits)\n",
        "- non-linear fits (or more precisely non polynomials).\n",
        "\n",
        "### Polynomial Fit:\n",
        "\n",
        "A polynomial fit is a specific type of fit where the relationship between variables is described by a polynomial equation.\n",
        "The general form of a polynomial fit of degree $n$ with the function is $$ y(x)= a_0 +a_1 x +a_2 x^2 + \\cdots + a_n x^n,  $$\n",
        "where  $y$ is the dependent variable, $x$ is the independent variable, and $a_0, a_1, a_2, \\cdots $ are fitting coefficients.\n",
        "The degree of the polynomial determines the complexity of the curve used to fit the data. A higher-degree polynomial can capture more complex patterns but may also be more prone to overfitting.\n",
        "It is to be noted that a polynomial of degree $1$ is merely a linear function $$y(x) = a_0 +a_1 x, $$ where $a_0$ is the intercept and $a_1$ is the slope.\n",
        "\n",
        "### Non-linear Fit (excluding Polynomials):\n",
        "\n",
        "Non-linear fits, in a broader sense, encompass various mathematical functions that are not necessarily polynomials.\n",
        "This category includes exponential, logarithmic, sinusoidal, or any other non-linear function that doesn't follow the polynomial form.\n",
        "Non-linear fits are employed when the relationship between variables cannot be adequately represented by a straight line or a polynomial.\n",
        "Examples include:\n",
        "- exponential : $y(x) = a \\exp(- \\lambda x) $\n",
        "- logarithmic : $y(x) = a \\ln(x) + b $\n",
        "- sinusoidal : $y(x) = a \\sin(bx) +c $\n",
        "\n",
        "While polynomial fits are a specific type of non-linear fit, non-linear fits more generally include a diverse range of mathematical\n",
        "functions beyond polynomials.\n",
        "\n",
        "The choice between these types of fits depends on the specific characteristics of the data and the underlying relationship between the variables."
      ]
    },
    {
      "cell_type": "markdown",
      "metadata": {
        "id": "Zw6_bE-O2FgN"
      },
      "source": [
        "## Applications to Snell's Law\n",
        "Snell's Law describes the relationship between the angles of incidence and refraction when light passes through different mediums with different refractive indices. It is expressed as:\n",
        "\n",
        "$$n_1 \\sin(\\theta_1) = n_2 \\sin(\\theta_2), $$\n",
        "where $n_1$ and $n_2$ are the refractive indices of the first and second mediums, respectively. $\\theta_1$​ is the angle of incidence and $\\theta_2$  is the angle of refraction.\n",
        "\n",
        "When dealing with Snell's Law, a linear fit is not typically applied directly, as the relationship involves trigonometric functions (sine). However, one can use linear fitting methods to analyze experimental data by looking at the sine of angles of incidence and refraction. If we consider the angles of incidence to be our independent variables and the angles of refraction to be the dependent variables (our measurements), then we can rewrite the equation as\n",
        "$$\\sin(\\theta_2) = \\frac{n_1}{n_2} \\sin(\\theta_1), $$\n",
        "or\n",
        "$$ y = m x, $$\n",
        "where $y = \\sin(\\theta_2) $, $m= \\frac{n_1}{n_2}$ and $x = \\sin(\\theta_1) $\n",
        "In this case we have recover a linear function"
      ]
    },
    {
      "cell_type": "markdown",
      "metadata": {
        "id": "dfTtZM7-6Ngl"
      },
      "source": [
        "For the purpose of our analysis, let's record our data in a table format"
      ]
    },
    {
      "cell_type": "code",
      "execution_count": 2,
      "metadata": {
        "id": "2vrE6Xpx6TFm"
      },
      "outputs": [
        {
          "data": {
            "text/plain": [
              "True"
            ]
          },
          "execution_count": 2,
          "metadata": {},
          "output_type": "execute_result"
        }
      ],
      "source": [
        "# Sample data\n",
        "angles_of_incidence = np.array([0,10,20,30,40])\n",
        "angles_of_refraction = np.array([0,13,27,41,58.6])\n",
        "\n",
        "# check that the lengths of the arrays are equal\n",
        "len(angles_of_incidence) == len( angles_of_refraction)"
      ]
    },
    {
      "cell_type": "markdown",
      "metadata": {
        "id": "KUjkNRLqCG1y"
      },
      "source": [
        "Personally, I am not particular fond of the previous method to keep track of data. I prefer to record the data into a 2D array instead. It is less prone to data entry errors. Since we need two 1D arrays for the best fit line. We can extract the data easily by parsing the 2D array"
      ]
    },
    {
      "cell_type": "code",
      "execution_count": null,
      "metadata": {
        "id": "QU_DPCMs7OMC"
      },
      "outputs": [],
      "source": [
        "# Assuming measurements is your 2D array of shape (n, 2) where the first argument is x and the second is y\n",
        "measurements = np.array([\n",
        "    [0, 0],\n",
        "    [10, 13.3],\n",
        "    [20,27],\n",
        "    [30,41.6],\n",
        "    [40,58.6]\n",
        "    ])\n",
        "\n",
        "# Extracting the x and y values into separate 1D arrays\n",
        "angles_of_incidence = measurements[:, 0]\n",
        "angles_of_refraction = measurements[:, 1]\n"
      ]
    },
    {
      "cell_type": "markdown",
      "metadata": {
        "id": "C_96rekzCkXm"
      },
      "source": [
        "We need to convert our data to take the sine of the function. We will use a powerful feature in NumPy called *Broadcasting*, which allows operations to be performed on arrays of different shapes and sizes. This functionality enables you to perform element-wise operations between arrays of different shapes without the need for explicit looping or resizing."
      ]
    },
    {
      "cell_type": "code",
      "execution_count": 3,
      "metadata": {
        "id": "-cRcm88m76nD"
      },
      "outputs": [],
      "source": [
        "# conversion factor\n",
        "degrees_to_radians = np.pi/180;\n",
        "\n",
        "sines_of_incidence = np.sin(angles_of_incidence * degrees_to_radians)\n",
        "sines_of_refraction = np.sin(angles_of_refraction * degrees_to_radians )"
      ]
    },
    {
      "cell_type": "markdown",
      "metadata": {
        "id": "xGGKI7K0RUmO"
      },
      "source": [
        "## Method 1:  Using numpy.poly for polynomial fit\n",
        "\n",
        "To make a polynomial fit, in our case a polynomial of degree 1, we can use the following function\n",
        "\n",
        "np.polyfit(x, y, deg=1)\n",
        "\n",
        "it returns the best fit coefficients"
      ]
    },
    {
      "cell_type": "code",
      "execution_count": 4,
      "metadata": {
        "id": "VtltCibHRnWg"
      },
      "outputs": [
        {
          "name": "stdout",
          "output_type": "stream",
          "text": [
            "Slope: 1.326204042664356, Intercept: -0.002179915899620806\n"
          ]
        },
        {
          "data": {
            "image/png": "[encoded data removed]",
            "text/plain": [
              "<Figure size 640x480 with 1 Axes>"
            ]
          },
          "metadata": {},
          "output_type": "display_data"
        }
      ],
      "source": [
        "x=sines_of_incidence\n",
        "y=sines_of_refraction\n",
        "\n",
        "# Perform linear regression with intercept of zero\n",
        "coefficients = np.polyfit(x, y, deg=1)\n",
        "\n",
        "# Get the slope and intercept\n",
        "slope, intercept = coefficients\n",
        "\n",
        "# Print the results\n",
        "print(f\"Slope: {slope}, Intercept: {intercept}\")\n",
        "\n",
        "# Create a linear function based on the fit\n",
        "linear_fit = np.poly1d(coefficients)\n",
        "\n",
        "# Generate y values based on the linear fit\n",
        "y_fit = linear_fit(x)\n",
        "\n",
        "# Plotting the original data and the linear fit\n",
        "plt.scatter(x, y, label='Original Data')\n",
        "\n",
        "# plottig the best fit line\n",
        "plt.plot(x, y_fit, label='Linear Fit', color='red')\n",
        "plt.xlabel('Sine of angle of incidence')\n",
        "plt.ylabel('Sine of angles of refraction')\n",
        "plt.legend()\n",
        "plt.show()"
      ]
    },
    {
      "cell_type": "markdown",
      "metadata": {
        "id": "gVzX8vviS_xm"
      },
      "source": [
        "## Method 2: Using a non_linear method using curve_fit from scipy"
      ]
    },
    {
      "cell_type": "markdown",
      "metadata": {
        "id": "boW8out0TMHW"
      },
      "source": [
        "In scipy, the curve_fit function is used for non-linear curve fitting. It is a more general method than polyfit and can be used to fit arbitrary functions to data. This function is part of the scipy.optimize module, so you'll need to import it from there.\n",
        "\n",
        "\n",
        "To call curve_fit, you need to use\n",
        "params, covariance = curve_fit(model_function, x_data, y_data, initial_guess)\n",
        "\n",
        "where\n",
        "- model_function is the function you defined, with the unknown parameters\n",
        "- x_data and y_data are your independent and dependent variables.\n",
        "- initial_guess is an initial guess for the parameters of your model (optional)"
      ]
    },
    {
      "cell_type": "code",
      "execution_count": 5,
      "metadata": {
        "id": "0yXjtvq6TIbt"
      },
      "outputs": [],
      "source": [
        "# Our model function: the first parameter must be the x values, and the one that come after are the parameters to optimize for\n",
        "# In our case y= mx\n",
        "\n",
        "def fitRelation( x, m):\n",
        "    return m * x"
      ]
    },
    {
      "cell_type": "code",
      "execution_count": 6,
      "metadata": {
        "id": "jdvdHl0d8P1U"
      },
      "outputs": [],
      "source": [
        "# Perform the weighted least squares fit\n",
        "params, covariance = curve_fit(fitRelation, sines_of_incidence, sines_of_refraction)\n",
        "\n",
        "# Extract the optimized parameters\n",
        "n_opt = params\n",
        "\n",
        "# Calculate the standard deviation of the parameters\n",
        "n_opt_std_dev = np.sqrt(np.diag(covariance))"
      ]
    },
    {
      "cell_type": "code",
      "execution_count": 7,
      "metadata": {
        "id": "6pHQpD0Y8Sjw"
      },
      "outputs": [
        {
          "name": "stdout",
          "output_type": "stream",
          "text": [
            "Optimized parameters:\n",
            "n = [1.32174241] ± [0.00442078]\n"
          ]
        }
      ],
      "source": [
        "# Display the optimized parameters and their standard deviations\n",
        "print(\"Optimized parameters:\")\n",
        "print(f\"n = {n_opt} ± {n_opt_std_dev}\")"
      ]
    },
    {
      "cell_type": "code",
      "execution_count": 8,
      "metadata": {
        "id": "1Ga7-uJ67Ctg"
      },
      "outputs": [
        {
          "data": {
            "image/png": "[encoded data removed]",
            "text/plain": [
              "<Figure size 640x480 with 1 Axes>"
            ]
          },
          "metadata": {},
          "output_type": "display_data"
        }
      ],
      "source": [
        "# Plot the data\n",
        "plt.plot(sines_of_incidence, sines_of_refraction, 'o')\n",
        "\n",
        "# The best fit line\n",
        "angles_of_incidence = np.linspace(0, 80, 100)\n",
        "degrees_to_radians = np.pi/180\n",
        "theXs = np.sin(angles_of_incidence*degrees_to_radians)\n",
        "theYs = fitRelation(theXs, n_opt)\n",
        "plt.plot(theXs, theYs)\n",
        "\n",
        "# Label the axes and show the plot\n",
        "plt.xlabel('Sine of Incidence Angle')\n",
        "plt.ylabel('Sine of Refracted Angle')\n",
        "plt.title('Best Fit Line for Snell\\'s Law')\n",
        "plt.show()"
      ]
    },
    {
      "cell_type": "code",
      "execution_count": null,
      "metadata": {
        "id": "3PA7rra3_TEW"
      },
      "outputs": [],
      "source": []
    },
    {
      "cell_type": "code",
      "execution_count": null,
      "metadata": {},
      "outputs": [],
      "source": []
    }
  ],
  "metadata": {
    "colab": {
      "authorship_tag": "ABX9TyOlExsd0K5cbehZeklAe4Vd",
      "include_colab_link": true,
      "private_outputs": true,
      "provenance": []
    },
    "kernelspec": {
      "display_name": "Python 3",
      "name": "python3"
    },
    "language_info": {
      "codemirror_mode": {
        "name": "ipython",
        "version": 3
      },
      "file_extension": ".py",
      "mimetype": "text/x-python",
      "name": "python",
      "nbconvert_exporter": "python",
      "pygments_lexer": "ipython3",
      "version": "3.12.1"
    }
  },
  "nbformat": 4,
  "nbformat_minor": 0
}
