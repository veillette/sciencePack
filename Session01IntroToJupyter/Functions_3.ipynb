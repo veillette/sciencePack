{
  "cells": [
    {
      "cell_type": "markdown",
      "metadata": {
        "colab_type": "text",
        "id": "jYL74HZRQYNr"
      },
      "source": [
        "# Introduction\n",
        "\n",
        "Functions are one of the most important concepts in computing.  Similar to mathematical functions, they take input data and return an output(s). Functions are ideal for repetitive tasks that perform a particular operation\n",
        "on different input data and return a result. A simple function might take the coordinates of the vertices of a triangle and return the area. Any non-trivial program will use functions, and in many cases will have many functions.\n",
        "\n",
        "\n",
        "## Objectives\n",
        "\n",
        "- Introduce construction and use of user functions\n",
        "- Returning from functions\n",
        "- Default arguments\n",
        "- Recursion"
      ]
    },
    {
      "cell_type": "markdown",
      "metadata": {
        "colab_type": "text",
        "id": "JC-w23GBQYNt"
      },
      "source": [
        "# What is a function?\n",
        "\n",
        "Below is a Python function that takes two arguments (`a` and `b`), and returns `a + b + 1`:"
      ]
    },
    {
      "cell_type": "code",
      "execution_count": 0,
      "metadata": {
        "colab": {},
        "colab_type": "code",
        "id": "_Kkf6IPwQYNv",
        "outputId": "1ccb5cf5-c349-43ef-ff79-5548012c16f2",
        "trusted": true
      },
      "outputs": [
        {
          "name": "stdout",
          "output_type": "stream",
          "text": [
            "8\n",
            "21\n"
          ]
        }
      ],
      "source": [
        "def sum_and_increment(a, b):\n",
        "    \"\"\"\"Return the sum of a and b, plus 1\"\"\"\n",
        "    return a + b + 1\n",
        "\n",
        "# Call the function\n",
        "m = sum_and_increment(3, 4)\n",
        "print(m)  # Expect 8\n",
        "\n",
        "# Call the function\n",
        "m = 10\n",
        "n = sum_and_increment(m, m)\n",
        "print(n)  # Expect 21"
      ]
    },
    {
      "cell_type": "markdown",
      "metadata": {
        "colab_type": "text",
        "id": "IdOGPl9MQYN1"
      },
      "source": [
        "Using the above example as a model, we can examine the anatomy of a Python function.\n",
        "\n",
        "- A function is declared using `def`, followed by the function name, `sum_and_increment`, followed by the list \n",
        "  of arguments to be passed to the function between brackets, `(a, b)`, and ended with a colon:\n",
        "  ```python\n",
        "  def sum_and_increment(a, b):\n",
        "  ```\n",
        "\n",
        "- Next comes the body of the function. The first part of the body is indented four spaces. \n",
        "  Everything that makes \n",
        "  up  the body of the function is indented at least four spaces relative to `def`. \n",
        "  In Python, the first part of the body is an optional documentation string that describes in words what the   \n",
        "  function does \n",
        "  ```python  \n",
        "      \"Return the sum of a and b, plus 1\"\n",
        "  ```\n",
        "\n",
        "- It is good practice to include a 'docstring'.  What comes after the documentation string \n",
        "  is the code that the function executes. At the end of a function is usually a `return` statement; this defines   what\n",
        "  result the function should return:\n",
        "  ```python\n",
        "      return a + b + 1\n",
        "  ```\n",
        "Anything indented to the same level (or less) as `def` falls outside of the function body.\n",
        "\n",
        "Most functions will take arguments and return something, but this is not strictly required.\n",
        "Below is an example of a function that does not take any arguments or return any variables."
      ]
    },
    {
      "cell_type": "code",
      "execution_count": 0,
      "metadata": {
        "colab": {},
        "colab_type": "code",
        "id": "w7u8Wu_ZQYN2",
        "outputId": "e077bdc9-e2b3-4c20-eba3-fe60f76c7275",
        "trusted": true
      },
      "outputs": [
        {
          "name": "stdout",
          "output_type": "stream",
          "text": [
            "The function 'print_message' has been called.\n"
          ]
        }
      ],
      "source": [
        "def print_message():\n",
        "    print(\"The function 'print_message' has been called.\")\n",
        "\n",
        "print_message()"
      ]
    },
    {
      "cell_type": "markdown",
      "metadata": {
        "colab_type": "text",
        "id": "rkyzYGswQYN7"
      },
      "source": [
        "# Purpose\n",
        "\n",
        "Functions allow computer code to be re-used multiple times with different input data. It is good to re-use code as much as possible because we then focus testing and debugging efforts, and maybe also optimisations, on small pieces of code that are then re-used. The more code that is written, the less frequently sections of code are used, and as a consequence the greater the likelihood of errors.\n",
        "\n",
        "Functions can also enhance the readability of a program, and make it easier to collaborate with others. Functions allow us to focus on *what* a program does at a high level \n",
        "rather than the details of *how* it does it. Low-level implementation details are *encapsulated* in functions. To understand at a high level what a program does, we usually just need to know what data is passed into a function and what the function returns. It is not necessary to know the precise details of how a function is implemented to grasp the structure of a program and how it works. For example, we might need to know that a function computes and returns $\\sin(x)$; we don't usually need to know *how* it computes sine.\n",
        "\n",
        "Below is a simple example of a function being 'called' numerous times from inside a `for` loop."
      ]
    },
    {
      "cell_type": "code",
      "execution_count": 0,
      "metadata": {
        "colab": {},
        "colab_type": "code",
        "id": "nX2DEmx9QYN7",
        "outputId": "6c80d6fe-a547-42a9-f657-515019f7cd26",
        "trusted": true
      },
      "outputs": [
        {
          "name": "stdout",
          "output_type": "stream",
          "text": [
            "Case A: 3 values\n",
            "0\n",
            "1\n",
            "8\n",
            "Case B: 12 values\n",
            "0\n",
            "1\n",
            "8\n",
            "27\n",
            "64\n",
            "125\n",
            "36\n",
            "49\n",
            "64\n",
            "81\n",
            "100\n",
            "0\n"
          ]
        }
      ],
      "source": [
        "def process_value(x):\n",
        "    \"Return a value that depends on the input value x \"\n",
        "    if x > 10:\n",
        "        return 0\n",
        "    elif x > 5:\n",
        "        return x*x\n",
        "    elif x > 0:\n",
        "        return x**3\n",
        "    else:\n",
        "        return x\n",
        "\n",
        "    \n",
        "print(\"Case A: 3 values\")    \n",
        "for y in range(3):\n",
        "    print(process_value(y))\n",
        "\n",
        "print(\"Case B: 12 values\")    \n",
        "for y in range(12):\n",
        "    print(process_value(y))"
      ]
    },
    {
      "cell_type": "markdown",
      "metadata": {
        "colab_type": "text",
        "id": "W5A0JlAJQYOA"
      },
      "source": [
        "Using a function, we did not have to duplicate the `if-elif-else` statement inside each loop\n",
        "we re-used it.\n",
        "With a function we only have to change the way in which we process the number `x` in one place."
      ]
    },
    {
      "cell_type": "markdown",
      "metadata": {
        "colab_type": "text",
        "id": "LaC3CrXeQYOB"
      },
      "source": [
        "# Function arguments\n",
        "\n",
        "The order in which function arguments are listed in the function declaration is in general the order in which arguments should be passed to a function. \n",
        "\n",
        "For the function `sum_and_increment` that was declared above, we could switch the order of the arguments and the result would not change because we are simply summing the input arguments. But, if we were to subtract one argument from the other, the result would depend on the input order:"
      ]
    },
    {
      "cell_type": "code",
      "execution_count": 0,
      "metadata": {
        "colab": {},
        "colab_type": "code",
        "id": "dRlmkTE0QYOC",
        "outputId": "e09e7c6d-a89b-42d4-f3f9-bbb574794d30",
        "trusted": true
      },
      "outputs": [
        {
          "name": "stdout",
          "output_type": "stream",
          "text": [
            "-1\n",
            "3\n"
          ]
        }
      ],
      "source": [
        "def subtract_and_increment(a, b):\n",
        "    \"Return a minus b, plus 1\"\n",
        "    return a - b + 1\n",
        "\n",
        "alpha, beta = 3, 5  # This is short hand notation for alpha = 3\n",
        "                    #                                 beta = 5\n",
        "\n",
        "# Call the function and print the return value\n",
        "print(subtract_and_increment(alpha, beta))  # Expect -1\n",
        "print(subtract_and_increment(beta, alpha))  # Expect 3"
      ]
    },
    {
      "cell_type": "markdown",
      "metadata": {
        "colab_type": "text",
        "id": "-yM4bXc5QYOG"
      },
      "source": [
        "For more complicated functions we might have numerous arguments. Consequently, it becomes easier to get the wrong order by accident when calling the function (which results in a bug). In Python, we can reduce the likelihood of an error by using *named* arguments, in which case order will not matter, e.g.:"
      ]
    },
    {
      "cell_type": "code",
      "execution_count": 0,
      "metadata": {
        "colab": {},
        "colab_type": "code",
        "id": "twD7BbUoQYOH",
        "outputId": "1b94ebe2-9023-4f09-f449-f6d9d242c858",
        "trusted": true
      },
      "outputs": [
        {
          "name": "stdout",
          "output_type": "stream",
          "text": [
            "-1\n",
            "-1\n"
          ]
        }
      ],
      "source": [
        "print(subtract_and_increment(a=alpha, b=beta))  # Expect -1\n",
        "print(subtract_and_increment(b=beta, a=alpha))  # Expect -1"
      ]
    },
    {
      "cell_type": "markdown",
      "metadata": {
        "colab_type": "text",
        "id": "U6gjCQxzQYOL"
      },
      "source": [
        "Using named arguments can often enhance program readability and reduce errors."
      ]
    },
    {
      "cell_type": "markdown",
      "metadata": {
        "colab_type": "text",
        "id": "0XHuZQdDQYOM"
      },
      "source": [
        "## What can be passed as a function argument?\n",
        "\n",
        "Many object types can be passed as arguments to functions, including other functions. Below\n",
        "is a function, `is_positive`, that checks if the value of a function $f$ evaluated at $x$ is positive:"
      ]
    },
    {
      "cell_type": "code",
      "execution_count": 0,
      "metadata": {
        "colab": {},
        "colab_type": "code",
        "id": "7NKxu9EVQYON",
        "outputId": "bb68fb2d-d831-4550-f575-dfa064a71ff9",
        "trusted": true
      },
      "outputs": [
        {
          "name": "stdout",
          "output_type": "stream",
          "text": [
            "True\n",
            "False\n"
          ]
        }
      ],
      "source": [
        "def f0(x):\n",
        "    \"Compute x^2 - 1\"\n",
        "    return x*x - 1\n",
        "\n",
        "\n",
        "def f1(x):\n",
        "    \"Compute -x^2 + 2x + 1\"\n",
        "    return -x*x + 2*x + 1\n",
        "\n",
        "\n",
        "def is_positive(f, x):\n",
        "    \"Check if the function value f(x) is positive\"\n",
        "\n",
        "    # Evaluate the function passed into the function for the value of x \n",
        "    # passed into the function\n",
        "    if f(x) > 0:\n",
        "        return True\n",
        "    else:\n",
        "        return False\n",
        "\n",
        "    \n",
        "# Value of x for which we want to test a function sign\n",
        "x = 4.5\n",
        "\n",
        "# Test function f0\n",
        "print(is_positive(f0, x))\n",
        "\n",
        "# Test function f1\n",
        "print(is_positive(f1, x))"
      ]
    },
    {
      "cell_type": "markdown",
      "metadata": {
        "colab_type": "text",
        "id": "EC95zJhHQYOS"
      },
      "source": [
        "## Default arguments\n",
        "\n",
        "It can sometimes be helpful for functions to have 'default' argument values which can be overridden. In some cases it just saves the programmer effort - they can write less code. In other cases it can allow us to use a function for a wider range of problems. For example, we could use the same function for vectors of length 2 and 3 if the default value for the third component is zero.\n",
        "\n",
        "As an example we consider the position $r$ of a particle with initial position $r_{0}$ and initial velocity $v_{0}$, and subject to an acceleration $a$. The position $r$ is given by:  \n",
        "\n",
        "$$\n",
        "r = r_0 + v_0 t + \\frac{1}{2} a t^{2}\n",
        "$$\n",
        "\n",
        "Say for a particular application the acceleration is almost always due to gravity ($g$), and $g = 9.8$ m s $^{-1}$ is sufficiently accurate in most cases. Moreover, the initial velocity is usually zero. We might therefore implement a function as:"
      ]
    },
    {
      "cell_type": "code",
      "execution_count": 0,
      "metadata": {
        "colab": {},
        "colab_type": "code",
        "id": "ALuYnN8sQYOS",
        "outputId": "4f1ccd96-8d38-41a9-94aa-415cd1b5a96b",
        "trusted": true
      },
      "outputs": [
        {
          "name": "stdout",
          "output_type": "stream",
          "text": [
            "0.8039999999999999\n"
          ]
        }
      ],
      "source": [
        "def position(t, r0, v0=0.0, a=-9.8):\n",
        "    \"Compute position of an accelerating particle.\"\n",
        "    return r0 + v0*t + 0.5*a*t*t\n",
        "\n",
        "# Position after 0.2 s (t) when dropped from a height of 1 m (r0) \n",
        "# with v0=0.0 and a=-9.8\n",
        "p = position(0.2, 1.0)\n",
        "print(p)"
      ]
    },
    {
      "cell_type": "markdown",
      "metadata": {
        "colab_type": "text",
        "id": "kM2vMYc9QYOX"
      },
      "source": [
        "At the equator, the acceleration due to gravity is slightly less, and for a case where this difference is important we can call the function with the acceleration due to gravity at the equator:"
      ]
    },
    {
      "cell_type": "code",
      "execution_count": 0,
      "metadata": {
        "colab": {},
        "colab_type": "code",
        "id": "n8eaVGyZQYOY",
        "outputId": "3d1df08b-e623-43d3-f552-8721af9d8a68",
        "trusted": true
      },
      "outputs": [
        {
          "name": "stdout",
          "output_type": "stream",
          "text": [
            "0.8044\n"
          ]
        }
      ],
      "source": [
        "# Position after 0.2 s (t) when dropped from a height of  1 m (r0)\n",
        "p = position(0.2, 1, 0.0, -9.78)\n",
        "print(p)"
      ]
    },
    {
      "cell_type": "markdown",
      "metadata": {
        "colab_type": "text",
        "id": "8MNysnV7QYOb"
      },
      "source": [
        "Note that we have also passed the initial velocity - otherwise the program might assume that our acceleration was in fact the velocity. We can use the default velocity and specify the acceleration by using named arguments: "
      ]
    },
    {
      "cell_type": "code",
      "execution_count": 0,
      "metadata": {
        "colab": {},
        "colab_type": "code",
        "id": "WdviM_bPQYOc",
        "outputId": "df0d7bab-20bd-4e57-d62e-f89fe51e768b",
        "trusted": true
      },
      "outputs": [
        {
          "name": "stdout",
          "output_type": "stream",
          "text": [
            "0.8044\n"
          ]
        }
      ],
      "source": [
        "# Position after 0.2 s (t) when dropped from a height of  1 m (r0)\n",
        "p = position(0.2, 1, a=-9.78)\n",
        "print(p)"
      ]
    },
    {
      "cell_type": "markdown",
      "metadata": {
        "colab_type": "text",
        "id": "OuZwedXQQYOf"
      },
      "source": [
        "# Return arguments\n",
        "\n",
        "Most functions, but not all, return data. Above are examples that return a single value (object), and one case where there is no return value. Python functions can have more than one return value. For example, we could have a function that takes three values and returns the maximum, the minimum and the mean, e.g."
      ]
    },
    {
      "cell_type": "code",
      "execution_count": 0,
      "metadata": {
        "colab": {},
        "colab_type": "code",
        "id": "knH3rhxSQYOg",
        "outputId": "75150c0a-f47c-4177-fe32-b839825ab548",
        "trusted": true
      },
      "outputs": [
        {
          "name": "stdout",
          "output_type": "stream",
          "text": [
            "-20 0.5 -6.466666666666666\n"
          ]
        }
      ],
      "source": [
        "def compute_max_min_mean(x0, x1, x2):\n",
        "    \"Return maximum, minimum and mean values\"\n",
        "    \n",
        "    x_min = x0\n",
        "    if x1 < x_min:\n",
        "        x_min = x1\n",
        "    if x2 < x_min:\n",
        "        x_min = x2\n",
        "\n",
        "    x_max = x0\n",
        "    if x1 > x_max:\n",
        "        x_max = x1\n",
        "    if x2 > x_max:\n",
        "        x_max = x2\n",
        "\n",
        "    x_mean = (x0 + x1 + x2)/3    \n",
        "        \n",
        "    return x_min, x_max, x_mean\n",
        "\n",
        "\n",
        "xmin, xmax, xmean = compute_max_min_mean(0.5, 0.1, -20)\n",
        "print(xmin, xmax, xmean)"
      ]
    },
    {
      "cell_type": "markdown",
      "metadata": {
        "colab_type": "text",
        "id": "YA5R9fu4QYOk"
      },
      "source": [
        "This function works, but we will see better ways to implement the functionality using lists or tuples \n",
        "in a later notebook."
      ]
    },
    {
      "cell_type": "markdown",
      "metadata": {
        "colab_type": "text",
        "id": "vG-dKfSHQYOl"
      },
      "source": [
        "# Scope\n",
        "\n",
        "Functions have local scope, which means that variables that are declared inside a function are not visible outside the function. This is a very good thing - it means that we do not have to worry about variables declared inside a function unexpectedly affecting other parts of a program. Here is a simple example:"
      ]
    },
    {
      "cell_type": "code",
      "execution_count": 0,
      "metadata": {
        "colab": {},
        "colab_type": "code",
        "id": "74Zd7RNOQYOm",
        "outputId": "98e788ed-3d0f-4846-d8a3-1dcc79e71aeb",
        "trusted": true
      },
      "outputs": [
        {
          "name": "stdout",
          "output_type": "stream",
          "text": [
            "10.0\n"
          ]
        }
      ],
      "source": [
        "# Assign 10.0 to the varibale a\n",
        "a = 10.0\n",
        "\n",
        "# A simple function that creates a variable 'a' and returns the value\n",
        "def dummy():\n",
        "    c = 5\n",
        "    a = \"A simple function\"\n",
        "    return a\n",
        "\n",
        "# Call the function\n",
        "b = dummy()\n",
        "\n",
        "# Check that the function declaration of 'a' has not affected \n",
        "# the variable 'a' outside of the function\n",
        "print(a)\n",
        "\n",
        "# This would throw an error - the variable c is not visible outside of the function\n",
        "# print(c)"
      ]
    },
    {
      "cell_type": "markdown",
      "metadata": {
        "colab_type": "text",
        "id": "GMuwL5VIQYOq"
      },
      "source": [
        "The variable `a` that is declared outside of the function is unaffected by what is done inside the function.\n",
        "Similarly, the variable `c` in the function is not 'visible' outside of the function. \n"
      ]
    }
  ],
  "metadata": {
    "colab": {
      "name": "04 Functions.ipynb",
      "provenance": [],
      "version": "0.3.2"
    },
    "kernelspec": {
      "display_name": "Python 3",
      "language": "python",
      "name": "python3"
    }
  },
  "nbformat": 4,
  "nbformat_minor": 0
}
