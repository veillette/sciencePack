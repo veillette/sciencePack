{
  "cells": [
    {
      "cell_type": "markdown",
      "metadata": {},
      "source": [
        "# Introduction\n",
        "\n",
        "Control statements allow a program to change what it does depending on input or other data.\n",
        "Typical flows in a computer program involve structures like:\n",
        "\n",
        "- if 'X' do task 'A', else if 'Y' do task 'B'\n",
        "- perform the task 'A' 'N' times\n",
        "- perform the task 'B' until 'X' is true\n",
        "\n",
        "These flows are implemented using what are called 'control statements'. They are also known as branching - the path a program follows depends on the input data. Control statements are a major part of all non-trivial computer programs.\n",
        "\n",
        "\n",
        "## Objectives\n",
        "\n",
        "- Introduce Boolean types\n",
        "- Introduce comparison operators\n",
        "- Learn to use control statements\n",
        "\n",
        "\n",
        "## Example of a control statement in pseudo code\n",
        "\n",
        "An electric window opener, attached to a rain sensor and a temperature \n",
        "gauge, might be controlled by the following program:\n",
        "\n",
        "    if raining:  # If raining, close the window\n",
        "        close_window()\n",
        "    else if temperature > 26:  # If the temperature is over 26 deg, open window\n",
        "        open_window()\n",
        "    else if temperature < 19:  # If the temperature is below 19 deg, close window\n",
        "        close_window()\n",
        "    else:  # Otherwise, do nothing and leave window as it is\n",
        "        pass\n",
        "\n",
        "It is easy to imagine the program being made more sophisticated using the time of the day and the day of the week, or being attached to a smoke alarm.\n",
        "\n",
        "We will look at different types of control statements, but first we need to introduce boolean types and comparison operators."
      ]
    },
    {
      "cell_type": "markdown",
      "metadata": {},
      "source": [
        "# Booleans\n",
        "\n",
        "Before starting with control statements, we need to introduce booleans.\n",
        "A Boolean is a type of variable that can take on one of two values - true or false."
      ]
    },
    {
      "cell_type": "code",
      "execution_count": null,
      "metadata": {},
      "outputs": [
        {
          "name": "stdout",
          "output_type": "stream",
          "text": [
            "True\n",
            "False\n"
          ]
        }
      ],
      "source": [
        "a = True\n",
        "print(a)\n",
        "\n",
        "a = False\n",
        "print(a)"
      ]
    },
    {
      "cell_type": "markdown",
      "metadata": {},
      "source": [
        "Booleans are used extensively in control statements."
      ]
    },
    {
      "cell_type": "markdown",
      "metadata": {},
      "source": [
        "# Comparison operators\n",
        "\n",
        "We often want to check in a program how two variables are related to each other, for example if one is less than the other, or if two variables are equal. We do this with 'comparison operators', such as `<`, `<=`, `>`, `>=` and `==`. \n",
        "\n",
        "Below is an example checking if a number `a` is less than or greater than a number `b`:"
      ]
    },
    {
      "cell_type": "code",
      "execution_count": null,
      "metadata": {},
      "outputs": [
        {
          "name": "stdout",
          "output_type": "stream",
          "text": [
            "False\n",
            "True\n"
          ]
        }
      ],
      "source": [
        "a = 10.0\n",
        "b = 9.9\n",
        "print(a < b)\n",
        "print(a > b)"
      ]
    },
    {
      "cell_type": "markdown",
      "metadata": {},
      "source": [
        "Equality is checked using '`==`', and '`!=`' is used to test if two variables are not equal. Below are some examples to read through."
      ]
    },
    {
      "cell_type": "code",
      "execution_count": null,
      "metadata": {},
      "outputs": [
        {
          "name": "stdout",
          "output_type": "stream",
          "text": [
            "Is a equal to b?\n",
            "False\n",
            "Is a equal to c?\n",
            "True\n",
            "Is a not equal to c?\n",
            "False\n",
            "Is a less than or equal to b?\n",
            "False\n",
            "Is a less than or equal to c?\n",
            "True\n",
            "Is colour0 the same as colour1?\n",
            "False\n"
          ]
        }
      ],
      "source": [
        "a = 14\n",
        "b = -9\n",
        "c = 14\n",
        "\n",
        "# Check if a is equal to b \n",
        "print(\"Is a equal to b?\")\n",
        "print(a == b)\n",
        "\n",
        "# Check if a is equal to c \n",
        "print(\"Is a equal to c?\")\n",
        "print(a == c)\n",
        "\n",
        "# Check if a is not equal to c \n",
        "print(\"Is a not equal to c?\")\n",
        "print(a != c)\n",
        "\n",
        "# Check if a is less than or equal to b \n",
        "print(\"Is a less than or equal to b?\")\n",
        "print(a <= b)\n",
        "\n",
        "# Check if a is less than or equal to c \n",
        "print(\"Is a less than or equal to c?\")\n",
        "print(a <= c)\n",
        "\n",
        "# Check if two colors are the same\n",
        "color0 = 'blue'\n",
        "color1 = 'green'\n",
        "print(\"Is colour0 the same as color1?\")\n",
        "print(color0 == color1)"
      ]
    },
    {
      "cell_type": "markdown",
      "metadata": {},
      "source": [
        "# Boolean operators\n",
        "\n",
        "In the above we have only used one comparison at a time. Boolean operators allow us to 'string' together multiple checks using the operators '`and`', '`or`' and '`not`'.\n",
        "The operators '`and`' and '`or`' take a boolean on either side, and the code\n",
        "```python\n",
        "X and Y\n",
        "```\n",
        "will evaluate to `True` if `X` *and* `Y` are both true, and otherwise will evaluate to `False`. The code\n",
        "```python\n",
        "X or Y\n",
        "```\n",
        "will evaluate to `True` if `X` *or* `Y` is true, and otherwise will evaluate to `False`.\n",
        "Here are some examples:"
      ]
    },
    {
      "cell_type": "code",
      "execution_count": null,
      "metadata": {},
      "outputs": [
        {
          "name": "stdout",
          "output_type": "stream",
          "text": [
            "False\n"
          ]
        }
      ],
      "source": [
        "# If 10 < 9 (false) and 15 < 20 (true) -> false\n",
        "print(10 < 9 and 15 < 20)"
      ]
    },
    {
      "cell_type": "code",
      "execution_count": null,
      "metadata": {},
      "outputs": [
        {
          "name": "stdout",
          "output_type": "stream",
          "text": [
            "True\n"
          ]
        }
      ],
      "source": [
        "# Check if 10 < 9 (false) or 15 < 20 (true) -> true\n",
        "print(10 < 9 or 15 < 20)"
      ]
    },
    {
      "cell_type": "markdown",
      "metadata": {},
      "source": [
        "The meaning of the statement becomes clear if read it left-to-right.\n",
        "\n",
        "Below is a very simple example that, given the current time of day reports \n",
        "\n",
        "- true if it is lunch time; and \n",
        "- true if we are outside of working hours."
      ]
    },
    {
      "cell_type": "code",
      "execution_count": null,
      "metadata": {},
      "outputs": [
        {
          "name": "stdout",
          "output_type": "stream",
          "text": [
            "Is it lunchtime?\n",
            "True\n",
            "Are we outside of working hours?\n",
            "False\n"
          ]
        }
      ],
      "source": [
        "time = 13.05  # The current time\n",
        "\n",
        "work_starts = 8.00  # Start of working day \n",
        "work_ends = 17.00  # End of working day\n",
        "\n",
        "lunch_starts = 13.00  # Start of lunchtime\n",
        "lunch_ends = 14.00  # End of lunchtime\n",
        "\n",
        "# Check if it's lunch time\n",
        "print(\"Is it lunchtime?\")\n",
        "is_lunchtime = time >= lunch_starts and time < lunch_ends\n",
        "print(is_lunchtime)\n",
        "\n",
        "# Check if we're outside of working hours\n",
        "print(\"Are we outside of working hours?\")\n",
        "outside_working_hours = time < work_starts or time >= work_ends\n",
        "print(outside_working_hours)"
      ]
    },
    {
      "cell_type": "markdown",
      "metadata": {},
      "source": [
        "Note that the comparison operators (`>=`, `<=`, `<` and `>`) are evaluated before the Boolean operators (`and`, `or`).\n",
        "\n",
        "In Python, the '`not`' operator negates a statement, e.g.:"
      ]
    },
    {
      "cell_type": "code",
      "execution_count": null,
      "metadata": {},
      "outputs": [
        {
          "name": "stdout",
          "output_type": "stream",
          "text": [
            "True\n"
          ]
        }
      ],
      "source": [
        "# Is 12 *not* less than 7 -> true\n",
        "a = 12\n",
        "b = 7\n",
        "print(not a < b)"
      ]
    },
    {
      "cell_type": "markdown",
      "metadata": {},
      "source": [
        "Only use '`not`' when it makes a program easy to read. For example,"
      ]
    },
    {
      "cell_type": "code",
      "execution_count": null,
      "metadata": {},
      "outputs": [
        {
          "name": "stdout",
          "output_type": "stream",
          "text": [
            "True\n"
          ]
        }
      ],
      "source": [
        "print(not 12 == 7)"
      ]
    },
    {
      "cell_type": "markdown",
      "metadata": {},
      "source": [
        "is not good practice. Better is"
      ]
    },
    {
      "cell_type": "code",
      "execution_count": null,
      "metadata": {},
      "outputs": [
        {
          "name": "stdout",
          "output_type": "stream",
          "text": [
            "True\n"
          ]
        }
      ],
      "source": [
        "print(12 != 7)"
      ]
    },
    {
      "cell_type": "markdown",
      "metadata": {},
      "source": [
        "## Multiple comparison operators\n",
        "\n",
        "The examples so far use at most two comparison operators. In some cases we might want to perform more checks. We can control the order of evaluation using brackets. For example, if we want to check if a number is strictly between 100 and 200, or between 10 and 50:"
      ]
    },
    {
      "cell_type": "code",
      "execution_count": null,
      "metadata": {},
      "outputs": [
        {
          "name": "stdout",
          "output_type": "stream",
          "text": [
            "True\n"
          ]
        }
      ],
      "source": [
        "value = 150.5\n",
        "print ((value > 100 and value < 200) or (value > 10 and value < 50)) "
      ]
    },
    {
      "cell_type": "markdown",
      "metadata": {},
      "source": [
        "The two checks in the brackets are evaluated first (each evaluates to `True` or `False`), and then the '`or`' checks if one of the two is true."
      ]
    },
    {
      "cell_type": "markdown",
      "metadata": {},
      "source": [
        "# Control statements\n",
        "\n",
        "Now that we've covered comparison, we are ready to look at control statements. These are a central part of computing. Here is a control statement in pseudo code:\n",
        "\n",
        "    if A is true\n",
        "        Perform task X (only)\n",
        "    else if B is true\n",
        "        Perform task Y (only)\n",
        "    else   \n",
        "        Perform task Z (only)\n",
        "\n",
        "The above is an 'if' statement. Another type of control statement is\n",
        "\n",
        "    do task X 10 times\n",
        "    \n",
        "We make this concrete below with some examples."
      ]
    },
    {
      "cell_type": "markdown",
      "metadata": {},
      "source": [
        "## `if` statements\n",
        "\n",
        "Below is a simple example that demonstrates the Python syntax for an if-else control statement. \n",
        "For a value assigned to a variable `x`, the program prints a message and modifies `x`.\n",
        "The message and the modification of `x` depend on the initial value of `x`:"
      ]
    },
    {
      "cell_type": "code",
      "execution_count": null,
      "metadata": {},
      "outputs": [
        {
          "name": "stdout",
          "output_type": "stream",
          "text": [
            "Initial x is less than zero\n",
            "New x value: 11.0\n"
          ]
        }
      ],
      "source": [
        "x = -10.0  # Initial x value\n",
        "\n",
        "if x > 0.0:  \n",
        "    print('Initial x is greater than zero')\n",
        "    x -= 20.0\n",
        "elif x < 0.0:  \n",
        "    print('Initial x is less than zero')\n",
        "    x += 21.0\n",
        "else: \n",
        "    print('Initial x is not less than zero and not greater than zero, therefore it must be zero')\n",
        "    x *= 2.5\n",
        "\n",
        "# Print new x value\n",
        "print(\"New x value:\", x)"
      ]
    },
    {
      "cell_type": "markdown",
      "metadata": {},
      "source": [
        "Try changing the value of `x` and re-running the cell to see the different paths the code can follow."
      ]
    },
    {
      "cell_type": "markdown",
      "metadata": {},
      "source": [
        "We now dissect the control statement example. The control statement begins with an `if`, followed by the expression to check, followed by '`:`'\n",
        "```python\n",
        "if x > 0.0:\n",
        "```\n",
        "Below that is a block of code, indented by four spaces, that is executed if the check (`x > 0.0`) is true:\n",
        "````python\n",
        "    print('Initial x is greater than zero')\n",
        "    x -= 20.0\n",
        "````\n",
        "and in which case the program will then move beyond the end of the control statement. If the check evaluates to false, then the `elif` (else if) check  \n",
        "```python\n",
        "elif x < 0.0:\n",
        "    print('Initial x is less than zero')\n",
        "    x += 21.0\n",
        "```      \n",
        "is performed, and if true '`print('x is less than zero')`' is executed and the control block is exited. The code following the `else` statement is executed\n",
        "```python\n",
        "else:\n",
        "    print('Initial x is not less than zero and not greater than zero, therefore it must be zero')\n",
        "```\n",
        "if none of the preceding statements were true."
      ]
    },
    {
      "cell_type": "markdown",
      "metadata": {},
      "source": [
        "## `for` loops\n",
        "\n",
        "A `for` loop is a block that repeats an operation a specified number of times (loops). The concept is rich, but we start with the simplest and most common usage:"
      ]
    },
    {
      "cell_type": "code",
      "execution_count": null,
      "metadata": {},
      "outputs": [
        {
          "name": "stdout",
          "output_type": "stream",
          "text": [
            "----\n",
            "0 0\n",
            "----\n",
            "1 1\n",
            "----\n",
            "2 4\n",
            "----\n",
            "3 9\n"
          ]
        }
      ],
      "source": [
        "for n in range(4):\n",
        "    print(\"----\")\n",
        "    print(n, n**2)"
      ]
    },
    {
      "cell_type": "markdown",
      "metadata": {},
      "source": [
        "The above executes 4 loops, over the integers 0, 1, 2 and 3. The statement \n",
        "```python\n",
        "for n in range(4):\n",
        "```\n",
        "says that we want to loop over four integers, and by default it starts from zero\n",
        "(see https://docs.python.org/3/library/stdtypes.html#range for the documentation for `range`). \n",
        "The value of `n` is incremented in each loop iteration. The code we want to execute inside the loop is indented four spaces: \n",
        "```python\n",
        "    print(\"----\")\n",
        "    print(n, n**2)\n",
        "```\n",
        "The loop starts from zero and does not include 4 - `range(4)` is a shortcut for `range(0, 4)`. We can change the starting value if we need to:"
      ]
    },
    {
      "cell_type": "code",
      "execution_count": null,
      "metadata": {},
      "outputs": [
        {
          "name": "stdout",
          "output_type": "stream",
          "text": [
            "-2\n",
            "-1\n",
            "0\n",
            "1\n",
            "2\n"
          ]
        }
      ],
      "source": [
        "for i in range(-2, 3):\n",
        "    print(i)"
      ]
    },
    {
      "cell_type": "markdown",
      "metadata": {},
      "source": [
        "The loop starts at -2, but does not include 3. If we want to step by three rather than one:"
      ]
    },
    {
      "cell_type": "code",
      "execution_count": null,
      "metadata": {},
      "outputs": [
        {
          "name": "stdout",
          "output_type": "stream",
          "text": [
            "0\n",
            "3\n",
            "6\n",
            "9\n"
          ]
        }
      ],
      "source": [
        "for n in range(0, 10, 3):\n",
        "    print(n)"
      ]
    },
    {
      "cell_type": "markdown",
      "metadata": {},
      "source": [
        "### Example: conversion table from degrees Fahrenheit to degrees Celsius\n",
        "\n",
        "We can use a `for` loop to create a conversion table from degrees Fahrenheit ($T_F$) to degrees Celsius ($T_c$), using the formula:\n",
        "\n",
        "$$\n",
        "T_c = 5(T_f - 32)/9\n",
        "$$\n",
        "\n",
        "Computing the conversion from -100 F to 200 F in steps of 20 F (not including 200 F):"
      ]
    },
    {
      "cell_type": "code",
      "execution_count": null,
      "metadata": {},
      "outputs": [
        {
          "name": "stdout",
          "output_type": "stream",
          "text": [
            "T_f,    T_c\n",
            "-100 -73.33333333333333\n",
            "-80 -62.22222222222222\n",
            "-60 -51.111111111111114\n",
            "-40 -40.0\n",
            "-20 -28.88888888888889\n",
            "0 -17.77777777777778\n",
            "20 -6.666666666666667\n",
            "40 4.444444444444445\n",
            "60 15.555555555555555\n",
            "80 26.666666666666668\n",
            "100 37.77777777777778\n",
            "120 48.888888888888886\n",
            "140 60.0\n",
            "160 71.11111111111111\n",
            "180 82.22222222222223\n"
          ]
        }
      ],
      "source": [
        "print(\"T_f,    T_c\")\n",
        "for Tf in range(-100, 200, 20):\n",
        "    print(Tf, (Tf - 32)*5/9)"
      ]
    }
  ],
  "metadata": {
    "kernelspec": {
      "display_name": "Python 3",
      "language": "python",
      "name": "python3"
    },
    "language_info": {
      "codemirror_mode": {
        "name": "ipython",
        "version": 3
      },
      "file_extension": ".py",
      "mimetype": "text/x-python",
      "name": "python",
      "nbconvert_exporter": "python",
      "pygments_lexer": "ipython3",
      "version": "3.5.4"
    }
  },
  "nbformat": 4,
  "nbformat_minor": 1
}
